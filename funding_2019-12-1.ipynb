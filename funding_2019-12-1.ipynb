{
 "cells": [
  {
   "cell_type": "markdown",
   "metadata": {},
   "source": [
    "# Analysis of PA School State Funding"
   ]
  },
  {
   "cell_type": "markdown",
   "metadata": {},
   "source": [
    "## Configure environment and import data"
   ]
  },
  {
   "cell_type": "code",
   "execution_count": 23,
   "metadata": {},
   "outputs": [],
   "source": [
    "import pandas as pd\n",
    "import os\n",
    "import statsmodels.api as sm\n",
    "import matplotlib.pyplot as plt"
   ]
  },
  {
   "cell_type": "code",
   "execution_count": 29,
   "metadata": {},
   "outputs": [],
   "source": [
    "data = {}\n",
    "os.chdir('/Users/dwynne891/personal/school_funding/')\n",
    "\n",
    "keep_vars = [\n",
    "    'LEA',\n",
    "    'AUN',\n",
    "    'Grads',\n",
    "    'Cohort',\n",
    "    'Cohort Grad Rate'\n",
    "]\n",
    "\n",
    "for i in range(11,18):\n",
    "    \n",
    "    file_name = '20{}-20{} Pennsylvania 4-Year Cohort Grad Rates.xlsx'.format(i,i+1)\n",
    "    \n",
    "    grad_data = pd.read_excel(\n",
    "        file_name,\n",
    "        sheet_name = 'Grad Rate by LEA',\n",
    "        header = 2,\n",
    "    ).rename({\n",
    "        'Total Grads':'Grads',\n",
    "        'Total Cohort':'Cohort',\n",
    "        'Total Grad Rate':'Cohort Grad Rate'},\n",
    "        axis = 1\n",
    "    )\n",
    "    \n",
    "    grad_data = grad_data.loc[grad_data.LEA.str.find(' SD') > -1, keep_vars]\n",
    "    \n",
    "    file_name = 'Finances BEF 20{}-{}.xlsx'.format(i,i+1)\n",
    "    \n",
    "    fund_data = pd.read_excel(\n",
    "        file_name,\n",
    "        sheet_name = 1,\n",
    "        header = 0\n",
    "    )\n",
    "    \n",
    "    fund_data = fund_data.iloc[:,[0,3]]\n",
    "    fund_data.columns = ['AUN','BEF']\n",
    "    \n",
    "    data['20{}-20{}'.format(i,i+1)] = pd.merge(\n",
    "        grad_data,\n",
    "        fund_data,\n",
    "        on = 'AUN',\n",
    "        how = 'left'\n",
    "    )\n",
    "    \n",
    "    data['20{}-20{}'.format(i,i+1)]['School Year'] = '20{}-20{}'.format(i,i+1)"
   ]
  },
  {
   "cell_type": "code",
   "execution_count": 33,
   "metadata": {},
   "outputs": [
    {
     "name": "stderr",
     "output_type": "stream",
     "text": [
      "/Users/dwynne891/anaconda3/lib/python3.7/site-packages/ipykernel_launcher.py:3: FutureWarning: Sorting because non-concatenation axis is not aligned. A future version\n",
      "of pandas will change to not sort by default.\n",
      "\n",
      "To accept the future behavior, pass 'sort=False'.\n",
      "\n",
      "To retain the current behavior and silence the warning, pass 'sort=True'.\n",
      "\n",
      "  This is separate from the ipykernel package so we can avoid doing imports until\n"
     ]
    },
    {
     "data": {
      "text/html": [
       "<div>\n",
       "<style scoped>\n",
       "    .dataframe tbody tr th:only-of-type {\n",
       "        vertical-align: middle;\n",
       "    }\n",
       "\n",
       "    .dataframe tbody tr th {\n",
       "        vertical-align: top;\n",
       "    }\n",
       "\n",
       "    .dataframe thead th {\n",
       "        text-align: right;\n",
       "    }\n",
       "</style>\n",
       "<table border=\"1\" class=\"dataframe\">\n",
       "  <thead>\n",
       "    <tr style=\"text-align: right;\">\n",
       "      <th></th>\n",
       "      <th>AUN</th>\n",
       "      <th>BEF</th>\n",
       "      <th>Cohort</th>\n",
       "      <th>Cohort Grad Rate</th>\n",
       "      <th>Grads</th>\n",
       "      <th>LEA</th>\n",
       "      <th>School Year</th>\n",
       "      <th>Funding per Student</th>\n",
       "    </tr>\n",
       "  </thead>\n",
       "  <tbody>\n",
       "    <tr>\n",
       "      <th>0</th>\n",
       "      <td>101260303.0</td>\n",
       "      <td>22118943.69</td>\n",
       "      <td>299.0</td>\n",
       "      <td>0.8194</td>\n",
       "      <td>245.0</td>\n",
       "      <td>Albert Gallatin Area SD</td>\n",
       "      <td>2011-2012</td>\n",
       "      <td>73976.400301</td>\n",
       "    </tr>\n",
       "    <tr>\n",
       "      <th>1</th>\n",
       "      <td>101260803.0</td>\n",
       "      <td>11618272.78</td>\n",
       "      <td>125.0</td>\n",
       "      <td>0.7840</td>\n",
       "      <td>98.0</td>\n",
       "      <td>Brownsville Area SD</td>\n",
       "      <td>2011-2012</td>\n",
       "      <td>92946.182240</td>\n",
       "    </tr>\n",
       "    <tr>\n",
       "      <th>2</th>\n",
       "      <td>101261302.0</td>\n",
       "      <td>28755346.27</td>\n",
       "      <td>345.0</td>\n",
       "      <td>0.7507</td>\n",
       "      <td>259.0</td>\n",
       "      <td>Connellsville Area SD</td>\n",
       "      <td>2011-2012</td>\n",
       "      <td>83348.829768</td>\n",
       "    </tr>\n",
       "    <tr>\n",
       "      <th>3</th>\n",
       "      <td>101262903.0</td>\n",
       "      <td>6581003.60</td>\n",
       "      <td>87.0</td>\n",
       "      <td>0.8621</td>\n",
       "      <td>75.0</td>\n",
       "      <td>Frazier SD</td>\n",
       "      <td>2011-2012</td>\n",
       "      <td>75643.719540</td>\n",
       "    </tr>\n",
       "    <tr>\n",
       "      <th>4</th>\n",
       "      <td>101264003.0</td>\n",
       "      <td>13092545.52</td>\n",
       "      <td>269.0</td>\n",
       "      <td>0.8513</td>\n",
       "      <td>229.0</td>\n",
       "      <td>Laurel Highlands SD</td>\n",
       "      <td>2011-2012</td>\n",
       "      <td>48671.172937</td>\n",
       "    </tr>\n",
       "  </tbody>\n",
       "</table>\n",
       "</div>"
      ],
      "text/plain": [
       "           AUN          BEF  Cohort  Cohort Grad Rate  Grads  \\\n",
       "0  101260303.0  22118943.69   299.0            0.8194  245.0   \n",
       "1  101260803.0  11618272.78   125.0            0.7840   98.0   \n",
       "2  101261302.0  28755346.27   345.0            0.7507  259.0   \n",
       "3  101262903.0   6581003.60    87.0            0.8621   75.0   \n",
       "4  101264003.0  13092545.52   269.0            0.8513  229.0   \n",
       "\n",
       "                       LEA School Year  Funding per Student  \n",
       "0  Albert Gallatin Area SD   2011-2012         73976.400301  \n",
       "1      Brownsville Area SD   2011-2012         92946.182240  \n",
       "2    Connellsville Area SD   2011-2012         83348.829768  \n",
       "3               Frazier SD   2011-2012         75643.719540  \n",
       "4      Laurel Highlands SD   2011-2012         48671.172937  "
      ]
     },
     "execution_count": 33,
     "metadata": {},
     "output_type": "execute_result"
    }
   ],
   "source": [
    "complete = pd.concat(\n",
    "    [data[i] for i in data.keys()],\n",
    "    axis = 0\n",
    ").dropna()\n",
    "complete['Funding per Student'] = complete['BEF']/complete['Cohort']\n",
    "complete.head()"
   ]
  },
  {
   "cell_type": "markdown",
   "metadata": {},
   "source": [
    "## Analyze data"
   ]
  },
  {
   "cell_type": "code",
   "execution_count": 34,
   "metadata": {},
   "outputs": [
    {
     "data": {
      "text/html": [
       "<div>\n",
       "<style scoped>\n",
       "    .dataframe tbody tr th:only-of-type {\n",
       "        vertical-align: middle;\n",
       "    }\n",
       "\n",
       "    .dataframe tbody tr th {\n",
       "        vertical-align: top;\n",
       "    }\n",
       "\n",
       "    .dataframe thead th {\n",
       "        text-align: right;\n",
       "    }\n",
       "</style>\n",
       "<table border=\"1\" class=\"dataframe\">\n",
       "  <thead>\n",
       "    <tr style=\"text-align: right;\">\n",
       "      <th></th>\n",
       "      <th>AUN</th>\n",
       "      <th>BEF</th>\n",
       "      <th>Cohort</th>\n",
       "      <th>Cohort Grad Rate</th>\n",
       "      <th>Grads</th>\n",
       "      <th>LEA</th>\n",
       "      <th>School Year</th>\n",
       "      <th>Funding per Student</th>\n",
       "    </tr>\n",
       "  </thead>\n",
       "  <tbody>\n",
       "    <tr>\n",
       "      <th>238</th>\n",
       "      <td>112679002.0</td>\n",
       "      <td>56234719.31</td>\n",
       "      <td>156.0</td>\n",
       "      <td>0.814103</td>\n",
       "      <td>127.0</td>\n",
       "      <td>York City SD</td>\n",
       "      <td>2013-2014</td>\n",
       "      <td>360478.969936</td>\n",
       "    </tr>\n",
       "    <tr>\n",
       "      <th>492</th>\n",
       "      <td>112679002.0</td>\n",
       "      <td>62625077.79</td>\n",
       "      <td>227.0</td>\n",
       "      <td>0.625551</td>\n",
       "      <td>142.0</td>\n",
       "      <td>York City SD</td>\n",
       "      <td>2016-2017</td>\n",
       "      <td>275881.399956</td>\n",
       "    </tr>\n",
       "    <tr>\n",
       "      <th>238</th>\n",
       "      <td>112679002.0</td>\n",
       "      <td>56234719.31</td>\n",
       "      <td>236.0</td>\n",
       "      <td>0.728800</td>\n",
       "      <td>172.0</td>\n",
       "      <td>York City SD</td>\n",
       "      <td>2014-2015</td>\n",
       "      <td>238282.708941</td>\n",
       "    </tr>\n",
       "    <tr>\n",
       "      <th>494</th>\n",
       "      <td>112679002.0</td>\n",
       "      <td>58969640.27</td>\n",
       "      <td>281.0</td>\n",
       "      <td>0.590747</td>\n",
       "      <td>166.0</td>\n",
       "      <td>York City SD</td>\n",
       "      <td>2015-2016</td>\n",
       "      <td>209856.371068</td>\n",
       "    </tr>\n",
       "    <tr>\n",
       "      <th>379</th>\n",
       "      <td>104435603.0</td>\n",
       "      <td>14724069.90</td>\n",
       "      <td>73.0</td>\n",
       "      <td>0.931507</td>\n",
       "      <td>68.0</td>\n",
       "      <td>Sharon City SD</td>\n",
       "      <td>2016-2017</td>\n",
       "      <td>201699.587671</td>\n",
       "    </tr>\n",
       "  </tbody>\n",
       "</table>\n",
       "</div>"
      ],
      "text/plain": [
       "             AUN          BEF  Cohort  Cohort Grad Rate  Grads  \\\n",
       "238  112679002.0  56234719.31   156.0          0.814103  127.0   \n",
       "492  112679002.0  62625077.79   227.0          0.625551  142.0   \n",
       "238  112679002.0  56234719.31   236.0          0.728800  172.0   \n",
       "494  112679002.0  58969640.27   281.0          0.590747  166.0   \n",
       "379  104435603.0  14724069.90    73.0          0.931507   68.0   \n",
       "\n",
       "                LEA School Year  Funding per Student  \n",
       "238    York City SD   2013-2014        360478.969936  \n",
       "492    York City SD   2016-2017        275881.399956  \n",
       "238    York City SD   2014-2015        238282.708941  \n",
       "494    York City SD   2015-2016        209856.371068  \n",
       "379  Sharon City SD   2016-2017        201699.587671  "
      ]
     },
     "execution_count": 34,
     "metadata": {},
     "output_type": "execute_result"
    }
   ],
   "source": [
    "complete.sort_values('Funding per Student', ascending = False).head()"
   ]
  },
  {
   "cell_type": "code",
   "execution_count": 35,
   "metadata": {},
   "outputs": [
    {
     "data": {
      "text/html": [
       "<div>\n",
       "<style scoped>\n",
       "    .dataframe tbody tr th:only-of-type {\n",
       "        vertical-align: middle;\n",
       "    }\n",
       "\n",
       "    .dataframe tbody tr th {\n",
       "        vertical-align: top;\n",
       "    }\n",
       "\n",
       "    .dataframe thead th {\n",
       "        text-align: right;\n",
       "    }\n",
       "</style>\n",
       "<table border=\"1\" class=\"dataframe\">\n",
       "  <thead>\n",
       "    <tr style=\"text-align: right;\">\n",
       "      <th></th>\n",
       "      <th>AUN</th>\n",
       "      <th>BEF</th>\n",
       "      <th>Cohort</th>\n",
       "      <th>Cohort Grad Rate</th>\n",
       "      <th>Grads</th>\n",
       "      <th>LEA</th>\n",
       "      <th>School Year</th>\n",
       "      <th>Funding per Student</th>\n",
       "    </tr>\n",
       "  </thead>\n",
       "  <tbody>\n",
       "    <tr>\n",
       "      <th>460</th>\n",
       "      <td>126515001.0</td>\n",
       "      <td>9.682569e+08</td>\n",
       "      <td>13524.0</td>\n",
       "      <td>0.615100</td>\n",
       "      <td>8318.0</td>\n",
       "      <td>Philadelphia City SD</td>\n",
       "      <td>2011-2012</td>\n",
       "      <td>71595.454052</td>\n",
       "    </tr>\n",
       "    <tr>\n",
       "      <th>460</th>\n",
       "      <td>126515001.0</td>\n",
       "      <td>9.841299e+08</td>\n",
       "      <td>11226.0</td>\n",
       "      <td>0.681454</td>\n",
       "      <td>7650.0</td>\n",
       "      <td>Philadelphia City SD</td>\n",
       "      <td>2013-2014</td>\n",
       "      <td>87665.235569</td>\n",
       "    </tr>\n",
       "    <tr>\n",
       "      <th>460</th>\n",
       "      <td>126515001.0</td>\n",
       "      <td>9.841299e+08</td>\n",
       "      <td>10846.0</td>\n",
       "      <td>0.648100</td>\n",
       "      <td>7029.0</td>\n",
       "      <td>Philadelphia City SD</td>\n",
       "      <td>2014-2015</td>\n",
       "      <td>90736.671077</td>\n",
       "    </tr>\n",
       "    <tr>\n",
       "      <th>332</th>\n",
       "      <td>126515001.0</td>\n",
       "      <td>1.020075e+09</td>\n",
       "      <td>10108.0</td>\n",
       "      <td>0.685793</td>\n",
       "      <td>6932.0</td>\n",
       "      <td>Philadelphia City SD</td>\n",
       "      <td>2015-2016</td>\n",
       "      <td>100917.587025</td>\n",
       "    </tr>\n",
       "    <tr>\n",
       "      <th>331</th>\n",
       "      <td>126515001.0</td>\n",
       "      <td>1.067174e+09</td>\n",
       "      <td>10409.0</td>\n",
       "      <td>0.671919</td>\n",
       "      <td>6994.0</td>\n",
       "      <td>Philadelphia City SD</td>\n",
       "      <td>2016-2017</td>\n",
       "      <td>102524.183557</td>\n",
       "    </tr>\n",
       "    <tr>\n",
       "      <th>331</th>\n",
       "      <td>126515001.0</td>\n",
       "      <td>1.097360e+09</td>\n",
       "      <td>10427.0</td>\n",
       "      <td>0.628273</td>\n",
       "      <td>6551.0</td>\n",
       "      <td>Philadelphia City SD</td>\n",
       "      <td>2017-2018</td>\n",
       "      <td>105242.141297</td>\n",
       "    </tr>\n",
       "  </tbody>\n",
       "</table>\n",
       "</div>"
      ],
      "text/plain": [
       "             AUN           BEF   Cohort  Cohort Grad Rate   Grads  \\\n",
       "460  126515001.0  9.682569e+08  13524.0          0.615100  8318.0   \n",
       "460  126515001.0  9.841299e+08  11226.0          0.681454  7650.0   \n",
       "460  126515001.0  9.841299e+08  10846.0          0.648100  7029.0   \n",
       "332  126515001.0  1.020075e+09  10108.0          0.685793  6932.0   \n",
       "331  126515001.0  1.067174e+09  10409.0          0.671919  6994.0   \n",
       "331  126515001.0  1.097360e+09  10427.0          0.628273  6551.0   \n",
       "\n",
       "                      LEA School Year  Funding per Student  \n",
       "460  Philadelphia City SD   2011-2012         71595.454052  \n",
       "460  Philadelphia City SD   2013-2014         87665.235569  \n",
       "460  Philadelphia City SD   2014-2015         90736.671077  \n",
       "332  Philadelphia City SD   2015-2016        100917.587025  \n",
       "331  Philadelphia City SD   2016-2017        102524.183557  \n",
       "331  Philadelphia City SD   2017-2018        105242.141297  "
      ]
     },
     "execution_count": 35,
     "metadata": {},
     "output_type": "execute_result"
    }
   ],
   "source": [
    "complete.loc[complete.LEA=='Philadelphia City SD']"
   ]
  },
  {
   "cell_type": "markdown",
   "metadata": {},
   "source": [
    "## Train simple linear regression model"
   ]
  },
  {
   "cell_type": "code",
   "execution_count": 79,
   "metadata": {},
   "outputs": [],
   "source": [
    "y = complete['Cohort Grad Rate']\n",
    "X = complete['Funding per Student']\n",
    "X_alt = X * 1.1\n",
    "#X = sm.add_constant(X)"
   ]
  },
  {
   "cell_type": "code",
   "execution_count": 67,
   "metadata": {},
   "outputs": [
    {
     "data": {
      "text/plain": [
       "<matplotlib.collections.PathCollection at 0x1c266abe48>"
      ]
     },
     "execution_count": 67,
     "metadata": {},
     "output_type": "execute_result"
    },
    {
     "data": {
      "image/png": "[encoded data removed]",
      "text/plain": [
       "<Figure size 432x288 with 1 Axes>"
      ]
     },
     "metadata": {
      "needs_background": "light"
     },
     "output_type": "display_data"
    }
   ],
   "source": [
    "#plt.scatter(X['Funding per Student'], y)\n",
    "plt.scatter(X, y)"
   ]
  },
  {
   "cell_type": "code",
   "execution_count": 70,
   "metadata": {},
   "outputs": [
    {
     "data": {
      "image/png": "[encoded data removed]",
      "text/plain": [
       "<Figure size 432x288 with 1 Axes>"
      ]
     },
     "metadata": {
      "needs_background": "light"
     },
     "output_type": "display_data"
    }
   ],
   "source": [
    "fig, ax = plt.subplots()\n",
    "fig = sm.graphics.plot_fit(OLS, 0, ax=ax)"
   ]
  },
  {
   "cell_type": "markdown",
   "metadata": {},
   "source": [
    "### Alternative scenario OLS"
   ]
  },
  {
   "cell_type": "code",
   "execution_count": 87,
   "metadata": {},
   "outputs": [
    {
     "name": "stdout",
     "output_type": "stream",
     "text": [
      "Model predicted statewide graduation rate: \n",
      "65.0%\n",
      "Actual statewide graduation rate: \n",
      "90.4%\n",
      "Model predicted statewide graduation rate with 110% of funding: \n",
      "71.5%\n"
     ]
    }
   ],
   "source": [
    "print(\"Model predicted statewide graduation rate: \\n{0:.1f}%\".format(OLS.predict(X).mean()*100))\n",
    "print(\"Actual statewide graduation rate: \\n{0:.1f}%\".format(y.mean()*100))\n",
    "print(\"Model predicted statewide graduation rate with 110% of funding: \\n{0:.1f}%\".format(OLS.predict(X_alt).mean()*100))"
   ]
  },
  {
   "cell_type": "markdown",
   "metadata": {},
   "source": [
    "## Logit regression"
   ]
  },
  {
   "cell_type": "code",
   "execution_count": 68,
   "metadata": {},
   "outputs": [
    {
     "data": {
      "text/html": [
       "<table class=\"simpletable\">\n",
       "<caption>OLS Regression Results</caption>\n",
       "<tr>\n",
       "  <th>Dep. Variable:</th>    <td>Cohort Grad Rate</td> <th>  R-squared (uncentered):</th>      <td>   0.704</td>\n",
       "</tr>\n",
       "<tr>\n",
       "  <th>Model:</th>                   <td>OLS</td>       <th>  Adj. R-squared (uncentered):</th> <td>   0.704</td>\n",
       "</tr>\n",
       "<tr>\n",
       "  <th>Method:</th>             <td>Least Squares</td>  <th>  F-statistic:       </th>          <td>   7064.</td>\n",
       "</tr>\n",
       "<tr>\n",
       "  <th>Date:</th>             <td>Mon, 09 Dec 2019</td> <th>  Prob (F-statistic):</th>           <td>  0.00</td> \n",
       "</tr>\n",
       "<tr>\n",
       "  <th>Time:</th>                 <td>22:18:18</td>     <th>  Log-Likelihood:    </th>          <td> -2118.2</td>\n",
       "</tr>\n",
       "<tr>\n",
       "  <th>No. Observations:</th>      <td>  2974</td>      <th>  AIC:               </th>          <td>   4238.</td>\n",
       "</tr>\n",
       "<tr>\n",
       "  <th>Df Residuals:</th>          <td>  2973</td>      <th>  BIC:               </th>          <td>   4244.</td>\n",
       "</tr>\n",
       "<tr>\n",
       "  <th>Df Model:</th>              <td>     1</td>      <th>                     </th>              <td> </td>   \n",
       "</tr>\n",
       "<tr>\n",
       "  <th>Covariance Type:</th>      <td>nonrobust</td>    <th>                     </th>              <td> </td>   \n",
       "</tr>\n",
       "</table>\n",
       "<table class=\"simpletable\">\n",
       "<tr>\n",
       "           <td></td>              <th>coef</th>     <th>std err</th>      <th>t</th>      <th>P>|t|</th>  <th>[0.025</th>    <th>0.975]</th>  \n",
       "</tr>\n",
       "<tr>\n",
       "  <th>Funding per Student</th> <td> 1.244e-05</td> <td> 1.48e-07</td> <td>   84.049</td> <td> 0.000</td> <td> 1.22e-05</td> <td> 1.27e-05</td>\n",
       "</tr>\n",
       "</table>\n",
       "<table class=\"simpletable\">\n",
       "<tr>\n",
       "  <th>Omnibus:</th>       <td>732.904</td> <th>  Durbin-Watson:     </th> <td>   1.252</td>\n",
       "</tr>\n",
       "<tr>\n",
       "  <th>Prob(Omnibus):</th> <td> 0.000</td>  <th>  Jarque-Bera (JB):  </th> <td>2960.741</td>\n",
       "</tr>\n",
       "<tr>\n",
       "  <th>Skew:</th>          <td>-1.154</td>  <th>  Prob(JB):          </th> <td>    0.00</td>\n",
       "</tr>\n",
       "<tr>\n",
       "  <th>Kurtosis:</th>      <td> 7.309</td>  <th>  Cond. No.          </th> <td>    1.00</td>\n",
       "</tr>\n",
       "</table><br/><br/>Warnings:<br/>[1] Standard Errors assume that the covariance matrix of the errors is correctly specified."
      ],
      "text/plain": [
       "<class 'statsmodels.iolib.summary.Summary'>\n",
       "\"\"\"\n",
       "                                 OLS Regression Results                                \n",
       "=======================================================================================\n",
       "Dep. Variable:       Cohort Grad Rate   R-squared (uncentered):                   0.704\n",
       "Model:                            OLS   Adj. R-squared (uncentered):              0.704\n",
       "Method:                 Least Squares   F-statistic:                              7064.\n",
       "Date:                Mon, 09 Dec 2019   Prob (F-statistic):                        0.00\n",
       "Time:                        22:18:18   Log-Likelihood:                         -2118.2\n",
       "No. Observations:                2974   AIC:                                      4238.\n",
       "Df Residuals:                    2973   BIC:                                      4244.\n",
       "Df Model:                           1                                                  \n",
       "Covariance Type:            nonrobust                                                  \n",
       "=======================================================================================\n",
       "                          coef    std err          t      P>|t|      [0.025      0.975]\n",
       "---------------------------------------------------------------------------------------\n",
       "Funding per Student  1.244e-05   1.48e-07     84.049      0.000    1.22e-05    1.27e-05\n",
       "==============================================================================\n",
       "Omnibus:                      732.904   Durbin-Watson:                   1.252\n",
       "Prob(Omnibus):                  0.000   Jarque-Bera (JB):             2960.741\n",
       "Skew:                          -1.154   Prob(JB):                         0.00\n",
       "Kurtosis:                       7.309   Cond. No.                         1.00\n",
       "==============================================================================\n",
       "\n",
       "Warnings:\n",
       "[1] Standard Errors assume that the covariance matrix of the errors is correctly specified.\n",
       "\"\"\""
      ]
     },
     "execution_count": 68,
     "metadata": {},
     "output_type": "execute_result"
    }
   ],
   "source": [
    "OLS = sm.OLS(y, X).fit()\n",
    "OLS.summary()"
   ]
  },
  {
   "cell_type": "code",
   "execution_count": 71,
   "metadata": {},
   "outputs": [
    {
     "name": "stdout",
     "output_type": "stream",
     "text": [
      "Optimization terminated successfully.\n",
      "         Current function value: 0.260811\n",
      "         Iterations 5\n"
     ]
    },
    {
     "data": {
      "text/html": [
       "<table class=\"simpletable\">\n",
       "<caption>Logit Regression Results</caption>\n",
       "<tr>\n",
       "  <th>Dep. Variable:</th>   <td>Cohort Grad Rate</td> <th>  No. Observations:  </th>  <td>  2974</td> \n",
       "</tr>\n",
       "<tr>\n",
       "  <th>Model:</th>                 <td>Logit</td>      <th>  Df Residuals:      </th>  <td>  2973</td> \n",
       "</tr>\n",
       "<tr>\n",
       "  <th>Method:</th>                 <td>MLE</td>       <th>  Df Model:          </th>  <td>     0</td> \n",
       "</tr>\n",
       "<tr>\n",
       "  <th>Date:</th>            <td>Mon, 09 Dec 2019</td> <th>  Pseudo R-squ.:     </th>  <td>-36.81</td> \n",
       "</tr>\n",
       "<tr>\n",
       "  <th>Time:</th>                <td>22:18:27</td>     <th>  Log-Likelihood:    </th> <td> -775.65</td>\n",
       "</tr>\n",
       "<tr>\n",
       "  <th>converged:</th>             <td>True</td>       <th>  LL-Null:           </th> <td> -20.517</td>\n",
       "</tr>\n",
       "<tr>\n",
       "  <th>Covariance Type:</th>     <td>nonrobust</td>    <th>  LLR p-value:       </th>  <td>   nan</td> \n",
       "</tr>\n",
       "</table>\n",
       "<table class=\"simpletable\">\n",
       "<tr>\n",
       "           <td></td>              <th>coef</th>     <th>std err</th>      <th>z</th>      <th>P>|z|</th>  <th>[0.025</th>    <th>0.975]</th>  \n",
       "</tr>\n",
       "<tr>\n",
       "  <th>Funding per Student</th> <td> 3.582e-05</td> <td> 1.22e-06</td> <td>   29.354</td> <td> 0.000</td> <td> 3.34e-05</td> <td> 3.82e-05</td>\n",
       "</tr>\n",
       "</table>"
      ],
      "text/plain": [
       "<class 'statsmodels.iolib.summary.Summary'>\n",
       "\"\"\"\n",
       "                           Logit Regression Results                           \n",
       "==============================================================================\n",
       "Dep. Variable:       Cohort Grad Rate   No. Observations:                 2974\n",
       "Model:                          Logit   Df Residuals:                     2973\n",
       "Method:                           MLE   Df Model:                            0\n",
       "Date:                Mon, 09 Dec 2019   Pseudo R-squ.:                  -36.81\n",
       "Time:                        22:18:27   Log-Likelihood:                -775.65\n",
       "converged:                       True   LL-Null:                       -20.517\n",
       "Covariance Type:            nonrobust   LLR p-value:                       nan\n",
       "=======================================================================================\n",
       "                          coef    std err          z      P>|z|      [0.025      0.975]\n",
       "---------------------------------------------------------------------------------------\n",
       "Funding per Student  3.582e-05   1.22e-06     29.354      0.000    3.34e-05    3.82e-05\n",
       "=======================================================================================\n",
       "\"\"\""
      ]
     },
     "execution_count": 71,
     "metadata": {},
     "output_type": "execute_result"
    }
   ],
   "source": [
    "logit = sm.Logit(y, X).fit()\n",
    "logit.summary()"
   ]
  },
  {
   "cell_type": "markdown",
   "metadata": {},
   "source": [
    "### Alternative scenario logit"
   ]
  },
  {
   "cell_type": "code",
   "execution_count": 88,
   "metadata": {},
   "outputs": [
    {
     "name": "stdout",
     "output_type": "stream",
     "text": [
      "Model predicted statewide graduation rate: \n",
      "82.2%\n",
      "Actual statewide graduation rate: \n",
      "90.4%\n",
      "Model predicted statewide graduation rate with 110% of funding: \n",
      "83.8%\n"
     ]
    }
   ],
   "source": [
    "print(\"Model predicted statewide graduation rate: \\n{0:.1f}%\".format(logit.predict(X).mean()*100))\n",
    "print(\"Actual statewide graduation rate: \\n{0:.1f}%\".format(y.mean()*100))\n",
    "print(\"Model predicted statewide graduation rate with 110% of funding: \\n{0:.1f}%\".format(logit.predict(X_alt).mean()*100))"
   ]
  },
  {
   "cell_type": "code",
   "execution_count": null,
   "metadata": {},
   "outputs": [],
   "source": []
  }
 ],
 "metadata": {
  "kernelspec": {
   "display_name": "Python 3",
   "language": "python",
   "name": "python3"
  },
  "language_info": {
   "codemirror_mode": {
    "name": "ipython",
    "version": 3
   },
   "file_extension": ".py",
   "mimetype": "text/x-python",
   "name": "python",
   "nbconvert_exporter": "python",
   "pygments_lexer": "ipython3",
   "version": "3.7.3"
  }
 },
 "nbformat": 4,
 "nbformat_minor": 4
}
